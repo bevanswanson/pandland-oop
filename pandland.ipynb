{
 "cells": [
  {
   "cell_type": "code",
   "execution_count": 2,
   "metadata": {},
   "outputs": [
    {
     "data": {
      "text/plain": [
       "[['John Doe',\n",
       "  ' Engineering',\n",
       "  ' Senior Engineer',\n",
       "  ' 35',\n",
       "  ' 75000',\n",
       "  ' 123 Main St',\n",
       "  ' Leeds'],\n",
       " ['Jane Ali',\n",
       "  ' Marketing',\n",
       "  ' Marketing Manager',\n",
       "  ' 40',\n",
       "  ' 90000',\n",
       "  ' 456 Elm St',\n",
       "  ' Leeds']]"
      ]
     },
     "execution_count": 2,
     "metadata": {},
     "output_type": "execute_result"
    }
   ],
   "source": [
    "import csv\n",
    "\n",
    "from oaklandas import oaklandas as ok\n",
    "\n",
    "with open('./data/employees.csv', 'r') as file:\n",
    "    csv_reader = csv.reader(file)\n",
    "    data = [row for row in csv_reader]\n",
    "    columns = data.pop(0)\n",
    "\n",
    "employees_df = ok.DataFrame(data=data, columns=columns)\n",
    "\n",
    "employees_df.head()"
   ]
  }
 ],
 "metadata": {
  "kernelspec": {
   "display_name": "venv",
   "language": "python",
   "name": "python3"
  },
  "language_info": {
   "codemirror_mode": {
    "name": "ipython",
    "version": 3
   },
   "file_extension": ".py",
   "mimetype": "text/x-python",
   "name": "python",
   "nbconvert_exporter": "python",
   "pygments_lexer": "ipython3",
   "version": "3.11.0"
  },
  "orig_nbformat": 4
 },
 "nbformat": 4,
 "nbformat_minor": 2
}
