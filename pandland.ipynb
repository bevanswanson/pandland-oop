{
 "cells": [
  {
   "cell_type": "code",
   "execution_count": null,
   "metadata": {},
   "outputs": [],
   "source": [
    "import csv\n",
    "\n",
    "from oaklandas import oaklandas as ok\n",
    "\n",
    "with open('./data/employees.csv', 'r') as file:\n",
    "        csv_reader = csv.reader(file)\n",
    "        data = [ row for row in csv_reader ]\n",
    "        columns = data.pop(0)\n",
    "\n",
    "        employees_df = ok.DataFrame(data=data, columns=columns)\n",
    "\n",
    "employees_df.info()"
   ]
  },
  {
   "cell_type": "code",
   "execution_count": null,
   "metadata": {},
   "outputs": [],
   "source": [
    "# I want to just display a sample of the data, can you give me the top 5 rows\n",
    "employees_df.head()"
   ]
  },
  {
   "cell_type": "code",
   "execution_count": null,
   "metadata": {},
   "outputs": [],
   "source": [
    "# What if I want to display slightly more rows of data?\n",
    "employees_df.head(7)"
   ]
  },
  {
   "cell_type": "code",
   "execution_count": null,
   "metadata": {},
   "outputs": [],
   "source": [
    "# what about the bottom rows?\n",
    "\n",
    "employees_df.tail()"
   ]
  },
  {
   "cell_type": "code",
   "execution_count": null,
   "metadata": {},
   "outputs": [],
   "source": [
    "# I have more data - can I add the data to the existing dataframe?\n",
    "\n",
    "# employees_df.append('data/more_employees.csv')"
   ]
  },
  {
   "cell_type": "code",
   "execution_count": null,
   "metadata": {},
   "outputs": [],
   "source": [
    "# can I get a row?\n",
    "\n",
    "employees_df.iloc(2)"
   ]
  },
  {
   "cell_type": "code",
   "execution_count": null,
   "metadata": {},
   "outputs": [],
   "source": [
    "# ...and what if its out of range?\n",
    "\n",
    "employees_df.iloc(1000)"
   ]
  },
  {
   "cell_type": "code",
   "execution_count": null,
   "metadata": {},
   "outputs": [],
   "source": [
    "# Can I select just a single column?\n",
    "\n",
    "employees_df.get_column('Name')"
   ]
  },
  {
   "cell_type": "code",
   "execution_count": null,
   "metadata": {},
   "outputs": [],
   "source": [
    "# Does it handle the wrong column properly?\n",
    "\n",
    "employees_df.get_column('nayyym')"
   ]
  },
  {
   "cell_type": "code",
   "execution_count": null,
   "metadata": {},
   "outputs": [],
   "source": [
    "# What is the average salary?\n",
    "\n",
    "employees_df.get_mean('Salary')"
   ]
  },
  {
   "cell_type": "code",
   "execution_count": null,
   "metadata": {},
   "outputs": [],
   "source": [
    "# what happens if we pass it a non-numeric column?\n",
    "\n",
    "employees_df.get_mean('Name')"
   ]
  },
  {
   "cell_type": "code",
   "execution_count": null,
   "metadata": {},
   "outputs": [],
   "source": [
    "# Can I select create a new dataframe by just passing a csv?\n",
    "\n",
    "df2 = ok.df_from_csv('data/employees.csv')\n",
    "df2"
   ]
  },
  {
   "cell_type": "code",
   "execution_count": null,
   "metadata": {},
   "outputs": [],
   "source": [
    "# What about the projects.json - can I ingest that?\n",
    "\n",
    "df = ok.df_from_json('./data/projects.json')\n",
    "df"
   ]
  }
 ],
 "metadata": {
  "kernelspec": {
   "display_name": "venv",
   "language": "python",
   "name": "python3"
  },
  "language_info": {
   "codemirror_mode": {
    "name": "ipython",
    "version": 3
   },
   "file_extension": ".py",
   "mimetype": "text/x-python",
   "name": "python",
   "nbconvert_exporter": "python",
   "pygments_lexer": "ipython3",
   "version": "3.11.0"
  },
  "orig_nbformat": 4
 },
 "nbformat": 4,
 "nbformat_minor": 2
}
